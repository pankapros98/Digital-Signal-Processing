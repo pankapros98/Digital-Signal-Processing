{
 "cells": [
  {
   "cell_type": "code",
   "execution_count": 1,
   "id": "absolute-position",
   "metadata": {},
   "outputs": [],
   "source": [
    "import numpy as np\n",
    "import scipy as sp\n",
    "from scipy import signal\n",
    "import librosa\n",
    "import matplotlib.pyplot as plt\n",
    "import pywt\n",
    "import sounddevice as sd\n",
    "import math"
   ]
  },
  {
   "cell_type": "code",
   "execution_count": 2,
   "id": "painful-verification",
   "metadata": {},
   "outputs": [],
   "source": [
    "#Επειδη η librosa δεν μπορει να υποστηριξει mp3 files τα μετατρεπουμε σε wav"
   ]
  },
  {
   "cell_type": "code",
   "execution_count": 3,
   "id": "absent-cement",
   "metadata": {},
   "outputs": [],
   "source": [
    "def audiosignal (signal, sample_rate) : \n",
    "    x,fs = librosa.load(signal, sample_rate)\n",
    "    return x , fs"
   ]
  },
  {
   "cell_type": "code",
   "execution_count": 4,
   "id": "short-bullet",
   "metadata": {},
   "outputs": [],
   "source": [
    "\n",
    "#Ερώτημα 4.1\n",
    "sr=22050 #sampling frequency\n",
    "foxtrot_1, fs = audiosignal('foxtrot_excerpt1.wav',sr) \n",
    "#Απομονώνονται 2^16 δείγματα από το αρχείο και εκτιμάται οπτικά η παλμική περιοδικότητα από τη γραφική του παράσταση."
   ]
  },
  {
   "cell_type": "code",
   "execution_count": 5,
   "id": "crazy-cyprus",
   "metadata": {},
   "outputs": [],
   "source": [
    "foxtrot_signal_1 = foxtrot_1[(1*(2**16)):(2*(2**16))] \n",
    "sd.play(foxtrot_1,sr)"
   ]
  },
  {
   "cell_type": "code",
   "execution_count": 6,
   "id": "pending-chapter",
   "metadata": {},
   "outputs": [],
   "source": [
    "def signal_plot(signal,fs) :\n",
    "    \n",
    "    fig = plt.figure(figsize= (20,8))\n",
    "    t=np.linspace(0, (len(signal))/fs, len(signal))\n",
    "    plt.plot(t, signal)\n",
    "    plt.xlabel('Time (sec)', fontsize=14)\n",
    "    plt.ylabel('Amplitude', fontsize=14)\n",
    "    plt.title('Music song', fontsize = 18)\n",
    "    #figsalsa1.savefig(\"4.1.png\")\n",
    "    plt.show()"
   ]
  },
  {
   "cell_type": "code",
   "execution_count": null,
   "id": "residential-marks",
   "metadata": {},
   "outputs": [],
   "source": [
    "signal_plot(foxtrot_signal_1, fs)"
   ]
  },
  {
   "cell_type": "code",
   "execution_count": null,
   "id": "stretch-compact",
   "metadata": {},
   "outputs": [],
   "source": [
    "#Οπτικά διακρίνουμε έναν ισχυρό παλμό ανά 0.25 second περίπου"
   ]
  },
  {
   "cell_type": "code",
   "execution_count": null,
   "id": "eastern-equilibrium",
   "metadata": {},
   "outputs": [],
   "source": [
    "#Εφαρμόζουμε την πολυκλιμακωτή ανάλυση (σε 7 επίπεδα) του discrete wavelet transform χρησιμοποιόντας τη συνάρτηση pywt.wavedec και στη συνέχεια κα διαιρούμαι τα σήματα με ρίζα 2 ώστε να είναι όλα στην ίδια κλίμακα"
   ]
  },
  {
   "cell_type": "code",
   "execution_count": null,
   "id": "random-batman",
   "metadata": {},
   "outputs": [],
   "source": [
    "coefs = pywt.wavedec(foxtrot_signal_1, \"db4\", level=7)"
   ]
  },
  {
   "cell_type": "code",
   "execution_count": null,
   "id": "endless-lesson",
   "metadata": {},
   "outputs": [],
   "source": [
    "def normalization(coefs): \n",
    "    yi_norm = []\n",
    "    for i in range(len(coefs)) :#διαίρεση με ρίζα 2 σε κάθε στάδιο\n",
    "         \n",
    "        if i==0 :\n",
    "            yi_norm.append(coefs[i]/(np.sqrt(2)**7))\n",
    "        \n",
    "        else :\n",
    "            yi_norm.append(coefs[i]/(np.sqrt(2)**(8-i))) \n",
    "    \n",
    "    return yi_norm"
   ]
  },
  {
   "cell_type": "code",
   "execution_count": null,
   "id": "covered-niger",
   "metadata": {},
   "outputs": [],
   "source": [
    "yi_norm = normalization(coefs)"
   ]
  },
  {
   "cell_type": "code",
   "execution_count": null,
   "id": "vanilla-smooth",
   "metadata": {},
   "outputs": [],
   "source": [
    "#Ερώτημα 4.3\n",
    "#Για τον υπολογισμό του ερωτήματος ακολουθούνται οι οδηγίες της εκφώνησης. Αρχικά υπολογίζεται η απόλυτη τιμή του σήματος."
   ]
  },
  {
   "cell_type": "code",
   "execution_count": null,
   "id": "center-treaty",
   "metadata": {},
   "outputs": [],
   "source": [
    "def absolute (yi_norm):\n",
    "    zi = []\n",
    "\n",
    "    for y in yi_norm:\n",
    "        zi.append(np.abs(y))\n",
    "        \n",
    "    return zi"
   ]
  },
  {
   "cell_type": "code",
   "execution_count": null,
   "id": "described-parliament",
   "metadata": {},
   "outputs": [],
   "source": [
    "zi = absolute(yi_norm)"
   ]
  },
  {
   "cell_type": "code",
   "execution_count": null,
   "id": "bulgarian-marsh",
   "metadata": {},
   "outputs": [],
   "source": [
    "#Στη συνέχεια, γίνεται χρήση βαθυπερατού φίλτρου για τις διάφορες τιμές του a"
   ]
  },
  {
   "cell_type": "code",
   "execution_count": null,
   "id": "pleased-amplifier",
   "metadata": {},
   "outputs": [],
   "source": [
    "def surround(zlist, a0) :\n",
    "    \n",
    "    surround = []\n",
    "    \n",
    "    for i in range(0,len(zlist)) :\n",
    "        \n",
    "        if i==0 :\n",
    "            a = a0 * (2**7)\n",
    "        \n",
    "        else :\n",
    "            a = a0 * (2**(8-i))\n",
    "        \n",
    "        x_i = np.zeros(len(zlist[i]))\n",
    "        \n",
    "        \n",
    "        for j in range(1,len(zlist[i])):\n",
    "            \n",
    "            x_i[j] = (1-a)*x_i[j-1] + a*zlist[i][j]\n",
    "            \n",
    "        surround.append(x_i)\n",
    "        \n",
    "    return surround"
   ]
  },
  {
   "cell_type": "code",
   "execution_count": null,
   "id": "sublime-bunny",
   "metadata": {},
   "outputs": [],
   "source": [
    "def list_a_surrounds(zi) :    \n",
    "    \n",
    "    list_a = [0.001, 0.002, 0.005]\n",
    "\n",
    "    surrounds = []\n",
    "\n",
    "    for i in list_a:\n",
    "\n",
    "        current_surround = surround(zi, i)\n",
    "        surrounds.append(current_surround)\n",
    "    \n",
    "    return surrounds"
   ]
  },
  {
   "cell_type": "code",
   "execution_count": null,
   "id": "floppy-jumping",
   "metadata": {},
   "outputs": [],
   "source": [
    "surrounds = list_a_surrounds(zi)"
   ]
  },
  {
   "cell_type": "code",
   "execution_count": null,
   "id": "welcome-closure",
   "metadata": {},
   "outputs": [],
   "source": [
    "#Τέλος, κεντράρισμα του σήματος με αφαίρεση της μέσης τιμής του, η οποία δίνεται από τη συνάρτηση mean() της numpy."
   ]
  },
  {
   "cell_type": "code",
   "execution_count": null,
   "id": "amino-reproduction",
   "metadata": {},
   "outputs": [],
   "source": [
    "def central(list) :\n",
    "    for i in range(len(list)) :\n",
    "        for j in range(len(list[i])) :\n",
    "            list[i][j] = list [i][j] - np.mean(list[i][j])\n",
    "            \n",
    "    return list"
   ]
  },
  {
   "cell_type": "code",
   "execution_count": null,
   "id": "minor-compromise",
   "metadata": {},
   "outputs": [],
   "source": [
    "centralized_surrounds = central(surrounds)"
   ]
  },
  {
   "cell_type": "code",
   "execution_count": null,
   "id": "defensive-avenue",
   "metadata": {},
   "outputs": [],
   "source": [
    "#Παρακάτω παρατίθενται τα διαγράμματα των συνιστωσών yd3 και yd6 μαζί με τις περιβάλλουσές τους για τις διάφορες τιμές του a"
   ]
  },
  {
   "cell_type": "code",
   "execution_count": null,
   "id": "joined-meter",
   "metadata": {},
   "outputs": [],
   "source": [
    "def coefficients_and_surrounds_plot (centralized_surrounds, yi_norm) : \n",
    "    plot_sur = []\n",
    "    plot_y = []\n",
    "\n",
    "    for i in [5, 2]:\n",
    "        plot_sur.append([centralized_surrounds[0][i], centralized_surrounds[1][i], centralized_surrounds[2][i]])\n",
    "        plot_y.append(yi_norm[i])\n",
    "\n",
    "    fig, axes = plt.subplots(nrows=2, ncols=1, figsize=(13,18))\n",
    "    plt.tight_layout(pad=0.4, w_pad=0.5, h_pad=7.0)\n",
    "\n",
    "    idx = 0\n",
    "\n",
    "    for ax, sur, y in zip(axes.flatten(), plot_sur, plot_y):\n",
    "        if idx == 0:\n",
    "            title = \"Η συνιστώσα y$_d$$_3$ και οι τρεις περιβάλλουσες\"\n",
    "            idx += 1\n",
    "            axis_x = np.linspace(0,len(sur[0]), len(sur[0]))\n",
    "            ax.plot(axis_x, y, label = \"y$_d$$_3$\")\n",
    "            ax.plot(axis_x, sur[0], label = \"a$_0$ = 0.001\")\n",
    "            ax.plot(axis_x, sur[1], label = \"a$_0$ = 0.002\")\n",
    "            ax.plot(axis_x, sur[2], label = \"a$_0$ = 0.005\")\n",
    "        else:\n",
    "            title = \"Η συνιστώσα y$_d$$_3$ και οι τρεις περιβάλλουσες\"\n",
    "            axis_x = np.linspace(0,len(sur[0]), len(sur[0]))\n",
    "            ax.plot(axis_x, y, label = \"y$_d$$_3$\")\n",
    "            ax.plot(axis_x, sur[0], label = \"a$_0$ = 0.001\")\n",
    "            ax.plot(axis_x, sur[1], label = \"a$_0$ = 0.002\")\n",
    "            ax.plot(axis_x, sur[2], label = \"a$_0$ = 0.005\")\n",
    "\n",
    "        ax.legend(shadow=True, fontsize='x-large',)\n",
    "        ax.set_title(title, fontsize=18)\n",
    "        ax.set_xlabel(\"n\", fontsize=16)\n",
    "\n",
    "    \n",
    "    plt.show()"
   ]
  },
  {
   "cell_type": "code",
   "execution_count": null,
   "id": "attended-liability",
   "metadata": {},
   "outputs": [],
   "source": [
    "coefficients_and_surrounds_plot (centralized_surrounds, yi_norm)"
   ]
  },
  {
   "cell_type": "code",
   "execution_count": null,
   "id": "occasional-voluntary",
   "metadata": {},
   "outputs": [],
   "source": [
    "#Όπως ήταν αναμενόμενο οι περιβάλλουσες ακολουθούν σε γενικές γραμμές το σχήμα του σήματος αλλά είναι χαμηλωμένες αφού τους έχει αφαιρεθεί ο μέσος όρος. Επίσης, συμπαιρένουμε ότι η ακριβέστερη περιβάλλουσα προκύπτει για a=0.005 και για αυτή θα γίνει στη συνέχεια η αυτοσυσχέτιση του σήματος"
   ]
  },
  {
   "cell_type": "code",
   "execution_count": null,
   "id": "changed-diesel",
   "metadata": {},
   "outputs": [],
   "source": [
    "#Ερώτημα 4.4\n",
    "#Για την πρόσθεση των περιβαλλουσών των συνιστωσών του προηγούμενου ερωτήματος:"
   ]
  },
  {
   "cell_type": "code",
   "execution_count": null,
   "id": "alone-investigator",
   "metadata": {},
   "outputs": [],
   "source": [
    "def add_surround (list, idx) :\n",
    "    length = len(list[idx][7])\n",
    "    \n",
    "    current_list = list[idx]\n",
    "    \n",
    "    add=np.zeros(length)\n",
    "    \n",
    "    for sur in current_list :\n",
    "        \n",
    "        x=np.linspace(0, len(sur), length)\n",
    "        x_p = np.arange(0,len(sur))\n",
    "        interpolate = np.interp(x, x_p, sur) \n",
    "        \n",
    "        add = add + interpolate\n",
    "        \n",
    "    return add"
   ]
  },
  {
   "cell_type": "code",
   "execution_count": null,
   "id": "increased-nightlife",
   "metadata": {},
   "outputs": [],
   "source": [
    "sum_surround = add_surround(centralized_surrounds, 2)"
   ]
  },
  {
   "cell_type": "code",
   "execution_count": null,
   "id": "hollow-vulnerability",
   "metadata": {},
   "outputs": [],
   "source": [
    "#Τώρα θα υπολογίσουμε την αυτοσυσχέτιση του σήματος (δηλαδή τι σχέση έχει ένα δείγμα με τα προηγούμενα του δείγματα) με χρήση της συνάρτησης correlate της numpy"
   ]
  },
  {
   "cell_type": "code",
   "execution_count": null,
   "id": "practical-width",
   "metadata": {},
   "outputs": [],
   "source": [
    "def autocorr(x):\n",
    "   \n",
    "    result = np.correlate(x, x, mode='full')\n",
    "    \n",
    "    return result[int(result.size/2):]\n"
   ]
  },
  {
   "cell_type": "code",
   "execution_count": null,
   "id": "copyrighted-metadata",
   "metadata": {},
   "outputs": [],
   "source": [
    "def autocorr_plot(sum_surround) :\n",
    "    \n",
    "    autocorrelation = autocorr(sum_surround)\n",
    "\n",
    "    t= np.arange(0,len(autocorrelation)-1)\n",
    "    fig = plt.figure(figsize = (20,8))\n",
    "    plt.plot(t,(autocorrelation[0:int(len(autocorrelation) - 1)]))\n",
    "    plt.title(\"Autocorrelation\", fontsize=18)\n",
    "    plt.xlabel(\"Lags\", fontsize=16)\n",
    "    plt.ylabel\n",
    "    \n",
    "    return autocorrelation"
   ]
  },
  {
   "cell_type": "code",
   "execution_count": null,
   "id": "binding-finish",
   "metadata": {},
   "outputs": [],
   "source": [
    "autocorrelation = autocorr_plot(sum_surround)"
   ]
  },
  {
   "cell_type": "code",
   "execution_count": null,
   "id": "oriented-launch",
   "metadata": {},
   "outputs": [],
   "source": [
    "#Ερώτημα 4.5\n",
    "#Μέσω της αυτοσυσχέτισης φτιάξαμε το διάγραμμα του κομματιού σε Beats per minute και μέσω της συνάρτησης argrelextrema της scipy εντοπίσαμε το μέγιστο του διαγράμματος από το οποίο πήραμε το Bpm του κομματιού"
   ]
  },
  {
   "cell_type": "code",
   "execution_count": null,
   "id": "framed-universe",
   "metadata": {},
   "outputs": [],
   "source": [
    "def make_bpm_plot (autoc, fs, signal):\n",
    "    #autoc το autocorrelation κάθε σήματος\n",
    "    max_autocorrelation = sp.signal.argrelextrema(autoc, np.greater)\n",
    "    \n",
    "    max_autoc = autoc[max_autocorrelation[0]]\n",
    "    max_bpm = (60*fs)/max_autocorrelation[0]\n",
    "    left = max_autocorrelation[0][0]\n",
    "    right = max_autocorrelation[0][len(max_autocorrelation[0])-1]\n",
    "    \n",
    "    autocorrelation = (autoc[left:right])\n",
    "    BPM = ((60*fs)/((np.arange(left,right))))\n",
    "    \n",
    "    left_limit = int((60*fs)/200)\n",
    "    right_limit = int((60*fs)/40)\n",
    "    max_index = left_limit + np.argmax(autoc[left_limit:right_limit])\n",
    "    max_value = np.max (autoc[left_limit:right_limit])\n",
    "    tempo = 60/(max_index/fs)\n",
    "    \n",
    "    fig = plt.figure(figsize=(20,8))\n",
    "    plt.plot(BPM,autocorrelation)\n",
    "    plt.plot(max_bpm, max_autoc, 'ro', label = \"Local Maxima\")\n",
    "    plt.ylabel (\"Beat strenght\", fontsize = 16)\n",
    "    plt.xlabel (\"BPM\", fontsize = 16)\n",
    "    plt.vlines (40, ymin = np.min(autocorrelation), ymax = np.max(autocorrelation), color = \"black\")\n",
    "    plt.vlines (200, ymin = np.min(autocorrelation), ymax = np.max(autocorrelation), color = \"black\")\n",
    "    plt.title(\"Beat Histogram\", fontsize = 20)\n",
    "    plt.legend(shadow = True, loc = \"lower right\")\n",
    "    plt.ylim(0)\n",
    "    plt.xlim(0,250)\n",
    "    \n",
    "    plt.show()\n",
    "    \n",
    "    true_tempo = librosa.beat.tempo(signal,fs)\n",
    "    print(\"Ο ρυθμός που βρήκαμε είναι:\", tempo, \"BPM\")\n",
    "    print(\"Ο κανονικός ρυθμός του τραγουδιού είναι :\", true_tempo[0], \"BPM\")\n",
    "    \n",
    "    return tempo"
   ]
  },
  {
   "cell_type": "code",
   "execution_count": null,
   "id": "advised-central",
   "metadata": {},
   "outputs": [],
   "source": [
    "tempo = make_bpm_plot(autocorrelation,fs, foxtrot_signal_1)"
   ]
  },
  {
   "cell_type": "code",
   "execution_count": null,
   "id": "limited-bundle",
   "metadata": {},
   "outputs": [],
   "source": [
    "#Λάβαμε υπ' όψιν μας μόνο τα BPM που βρίσκονται μεταξύ 40 και 200 (που είναι και οι δύο κατακόρυφες γραμμές) καθώς οι κορυφές σε μεγαλύτερα BPM αποτελούν ακέραια πολλαπλάσια προήγουμενων BPM. To tempo αντιστοιχεί στα BPM με την υψηλότερη κορυφή. Με χρήση της συνάρτησης librosa.beat.tempo υπολογίσαμε και το πραγματικό tempo αυτού του κομματιού και όπως φαίνεται παραπάνω δεν έχει μεγάλη απόκλιση από αυτό που βρήκαμε"
   ]
  },
  {
   "cell_type": "code",
   "execution_count": null,
   "id": "proud-change",
   "metadata": {},
   "outputs": [],
   "source": [
    "def plot_tempo (signal , tempo, fs) :\n",
    "    \n",
    "    T = len(signal)/float(fs)\n",
    "    beatfrequency = 60.0 / tempo\n",
    "    beats = np.arange(0, T, beatfrequency)\n",
    "    x=np.linspace(0, (len(signal))/fs, len(signal))\n",
    "    \n",
    "    plt.figure(figsize = (16,8))\n",
    "    t=np.linspace(0, (len(signal))/fs, len(signal))\n",
    "    plt.plot(t, signal)\n",
    "    plt.vlines (beats, -1, 1, color = \"black\")\n",
    "    plt.xlabel (\"Time(sec)\", fontsize = 16)\n",
    "    plt.ylabel (\"signal\", fontsize = 16)\n",
    "    plt.title(\"Estimated BPM\", fontsize = 20)\n",
    "    \n",
    "    plt.show()\n",
    "\n"
   ]
  },
  {
   "cell_type": "code",
   "execution_count": null,
   "id": "auburn-specific",
   "metadata": {},
   "outputs": [],
   "source": [
    "#Παρακάτω θα απεικονίσουμε με γραμμές τα σημεία του τραγουδιού στα οποία αντιστοιχεί το τέμπο. Δηλαδή, τα σημεία που \"κυριαρχεί\" ο ρυθμός που βρήκαμε παραπάνω"
   ]
  },
  {
   "cell_type": "code",
   "execution_count": null,
   "id": "front-treasure",
   "metadata": {},
   "outputs": [],
   "source": [
    "plot_tempo(foxtrot_signal_1, tempo, fs)"
   ]
  },
  {
   "cell_type": "code",
   "execution_count": null,
   "id": "liable-variable",
   "metadata": {},
   "outputs": [],
   "source": [
    "#Για την ακουστική επιβεβαίωση θα κάνουμε αναπαραγωγή του κομματιού και θα προσθέσουμε με τη συνάρτηση clicks της librosa ένα click ανάλογα με το tempo που βρήκαμε πριν ώστε να επιβεβαιώσουμε ακουστικά το αποτέλεσμά μας."
   ]
  },
  {
   "cell_type": "code",
   "execution_count": null,
   "id": "built-rings",
   "metadata": {},
   "outputs": [],
   "source": [
    "def play_tempo (signal, tempo, fs) :\n",
    "    \n",
    "    T = len(signal)/float(fs)\n",
    "    beatfrequency = 60.0 / tempo\n",
    "    beats = np.arange(0, T, beatfrequency)\n",
    "    \n",
    "    clicks = librosa.clicks (beats, fs, length = len(signal))\n",
    "    mix = signal + clicks\n",
    "    sd.play(mix, fs)"
   ]
  },
  {
   "cell_type": "code",
   "execution_count": null,
   "id": "baking-supplement",
   "metadata": {},
   "outputs": [],
   "source": [
    "play_tempo(foxtrot_signal_1, tempo, fs)\n"
   ]
  },
  {
   "cell_type": "code",
   "execution_count": null,
   "id": "relative-fourth",
   "metadata": {},
   "outputs": [],
   "source": [
    "#Ερώτημα 4.6\n",
    "#Δημιουργήσαμε μια συνάρτηση που περιέχει τις συναρτήσεις που χρησιμοποιήθηκαν στα προηγούμενα ερωτήματα και ώστε να μπορέσουμε να κάνουμε αντίστοιχη επεξεργασία και σε άλλα κομμάτια"
   ]
  },
  {
   "cell_type": "code",
   "execution_count": null,
   "id": "fleet-stanley",
   "metadata": {},
   "outputs": [],
   "source": [
    "def song_proseccing (signal,fs) :\n",
    "    \n",
    "    #δημιουργία διαγράμματος και συνιστωσών\n",
    "    signal_plot(signal, fs)\n",
    "    coefs = pywt.wavedec(signal, \"db4\", level=7)\n",
    "    yi_norm = normalization(coefs)\n",
    "    \n",
    "    #δημιουργία περιβαλλουσών\n",
    "    zi = absolute(yi_norm)\n",
    "    surrounds = list_a_surrounds(zi)\n",
    "    centralized_surrounds = central(surrounds)\n",
    "    coefficients_and_surrounds_plot (centralized_surrounds, yi_norm)\n",
    "    \n",
    "    #υπολογισμός αυτοσυσχέτισης\n",
    "    sum_surround = add_surround(centralized_surrounds, 2)\n",
    "    autocorrelation = autocorr_plot(sum_surround)\n",
    "    \n",
    "    #υπολογισμός και επαλήθευση του tempo\n",
    "    tempo = make_bpm_plot(autocorrelation,fs, signal)\n",
    "    plot_tempo(signal, tempo, fs)\n",
    "    play_tempo(signal, tempo, fs)\n"
   ]
  },
  {
   "cell_type": "code",
   "execution_count": null,
   "id": "turned-stock",
   "metadata": {},
   "outputs": [],
   "source": [
    "#Για το δεύτερο κομμάτι foxtrot"
   ]
  },
  {
   "cell_type": "code",
   "execution_count": null,
   "id": "annual-exposure",
   "metadata": {},
   "outputs": [],
   "source": [
    "sr=22050 #sampling frequency\n",
    "foxtrot_2, fs = audiosignal('foxtrot_excerpt2.wav',sr) \n",
    "\n",
    "foxtrot_signal_2 = foxtrot_2[(1*(2**16)):(2*(2**16))] \n",
    "sd.play(foxtrot_2,sr)"
   ]
  },
  {
   "cell_type": "code",
   "execution_count": null,
   "id": "earned-christopher",
   "metadata": {},
   "outputs": [],
   "source": [
    "song_proseccing(foxtrot_signal_2, fs)"
   ]
  },
  {
   "cell_type": "code",
   "execution_count": null,
   "id": "religious-metallic",
   "metadata": {},
   "outputs": [],
   "source": [
    "#Για το κομμάτι salsa_excerpt.wav"
   ]
  },
  {
   "cell_type": "code",
   "execution_count": null,
   "id": "handled-prairie",
   "metadata": {},
   "outputs": [],
   "source": [
    "sr=22050 #sampling frequency\n",
    "salsa, fs = audiosignal('salsa_excerpt.wav',sr) \n",
    "\n",
    "salsa_signal = salsa[(2*(2**16)):(3*(2**16))] \n",
    "sd.play(salsa_signal,sr)"
   ]
  },
  {
   "cell_type": "code",
   "execution_count": null,
   "id": "quarterly-manufacturer",
   "metadata": {},
   "outputs": [],
   "source": [
    "song_proseccing(salsa_signal, fs)"
   ]
  },
  {
   "cell_type": "code",
   "execution_count": null,
   "id": "fifteen-point",
   "metadata": {},
   "outputs": [],
   "source": [
    "#Στο κομμάτι της salsa παρατηρούμε πολύ πιο έντονη αυτοσυχέτιση σε σχέση με τα δύο κομμάτια με αποτέλεσμα να εντοπίζουμε και μικρότερο tempo σε BPM. Το tempo που βρήκαμε είναι πάλι αρκετά κοντά στο πραγματικό tempo του τραγουδιού"
   ]
  },
  {
   "cell_type": "code",
   "execution_count": null,
   "id": "initial-component",
   "metadata": {},
   "outputs": [],
   "source": []
  }
 ],
 "metadata": {
  "kernelspec": {
   "display_name": "Python [conda env:dsp_lab1] *",
   "language": "python",
   "name": "conda-env-dsp_lab1-py"
  },
  "language_info": {
   "codemirror_mode": {
    "name": "ipython",
    "version": 3
   },
   "file_extension": ".py",
   "mimetype": "text/x-python",
   "name": "python",
   "nbconvert_exporter": "python",
   "pygments_lexer": "ipython3",
   "version": "3.8.8"
  }
 },
 "nbformat": 4,
 "nbformat_minor": 5
}
